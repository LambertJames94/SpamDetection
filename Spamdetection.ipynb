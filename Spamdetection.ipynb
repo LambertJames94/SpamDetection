{
  "nbformat": 4,
  "nbformat_minor": 0,
  "metadata": {
    "colab": {
      "name": "Copy of Spamdetection.ipynb",
      "provenance": [],
      "collapsed_sections": [
        "83jXk-h1S0mI"
      ]
    },
    "kernelspec": {
      "name": "python3",
      "display_name": "Python 3"
    },
    "language_info": {
      "name": "python"
    }
  },
  "cells": [
    {
      "cell_type": "code",
      "metadata": {
        "id": "YqPR4Nm17m5W"
      },
      "source": [
        "import pandas as pd\n",
        "import numpy as np\n",
        "import re\n",
        "from sklearn import linear_model\n",
        "from sklearn.linear_model import LinearRegression\n",
        "from sklearn.naive_bayes import MultinomialNB\n",
        "classifier = MultinomialNB()\n",
        "from sklearn.model_selection import train_test_split\n",
        "from sklearn.model_selection import cross_val_score\n",
        "from sklearn import metrics\n",
        "from sklearn.metrics import confusion_matrix"
      ],
      "execution_count": 134,
      "outputs": []
    },
    {
      "cell_type": "code",
      "metadata": {
        "id": "8TeCKQHw7wvw"
      },
      "source": [
        "dataset = pd.read_csv('spambase.data', header=None)"
      ],
      "execution_count": 118,
      "outputs": []
    },
    {
      "cell_type": "code",
      "metadata": {
        "id": "9ilOQAq38fSF"
      },
      "source": [
        "dataset = pd.read_csv('spambase.data', header=None)"
      ],
      "execution_count": 119,
      "outputs": []
    },
    {
      "cell_type": "code",
      "metadata": {
        "id": "QQh8ypJjGTlV"
      },
      "source": [
        "dataset.columns = ['word_freq_make:', 'word_freq_address:', 'word_freq_all:', 'word_freq_3d:', 'word_freq_our:',\n",
        "'word_freq_over:','word_freq_remove:','word_freq_internet:','word_freq_order:','word_freq_mail:','word_freq_receive:',\n",
        "'word_freq_will:','word_freq_people:','word_freq_report:','word_freq_addresses:','word_freq_free:','word_freq_business:',\n",
        "'word_freq_email:','word_freq_you:','word_freq_credit:','word_freq_your:','word_freq_font:','word_freq_000:',\n",
        "'word_freq_money:','word_freq_hp:','word_freq_hpl:','word_freq_george:','word_freq_650:','word_freq_lab:','word_freq_labs:',\n",
        "'word_freq_telnet:','word_freq_857:','word_freq_data:','word_freq_415:','word_freq_85:','word_freq_technology:',\n",
        "'word_freq_1999:','word_freq_parts:','word_freq_pm:','word_freq_direct:','word_freq_cs:',\n",
        "'word_freq_meeting:','word_freq_original:','word_freq_project:','word_freq_re:','word_freq_edu:','word_freq_table:',\n",
        "'word_freq_conference:','char_freq_;:','char_freq_(:','char_freq_[:','char_freq_!:','char_freq_$:','char_freq_#:',\n",
        "'capital_run_length_average:','capital_run_length_longest:','capital_run_length_total:', 'spam_yes_no']"
      ],
      "execution_count": 120,
      "outputs": []
    },
    {
      "cell_type": "code",
      "metadata": {
        "colab": {
          "base_uri": "https://localhost:8080/",
          "height": 224
        },
        "id": "6QpTd5JB8TIt",
        "outputId": "20daf9f5-1454-4993-d94d-087859f03bce"
      },
      "source": [
        "dataset.head()"
      ],
      "execution_count": 121,
      "outputs": [
        {
          "output_type": "execute_result",
          "data": {
            "text/html": [
              "<div>\n",
              "<style scoped>\n",
              "    .dataframe tbody tr th:only-of-type {\n",
              "        vertical-align: middle;\n",
              "    }\n",
              "\n",
              "    .dataframe tbody tr th {\n",
              "        vertical-align: top;\n",
              "    }\n",
              "\n",
              "    .dataframe thead th {\n",
              "        text-align: right;\n",
              "    }\n",
              "</style>\n",
              "<table border=\"1\" class=\"dataframe\">\n",
              "  <thead>\n",
              "    <tr style=\"text-align: right;\">\n",
              "      <th></th>\n",
              "      <th>word_freq_make:</th>\n",
              "      <th>word_freq_address:</th>\n",
              "      <th>word_freq_all:</th>\n",
              "      <th>word_freq_3d:</th>\n",
              "      <th>word_freq_our:</th>\n",
              "      <th>word_freq_over:</th>\n",
              "      <th>word_freq_remove:</th>\n",
              "      <th>word_freq_internet:</th>\n",
              "      <th>word_freq_order:</th>\n",
              "      <th>word_freq_mail:</th>\n",
              "      <th>word_freq_receive:</th>\n",
              "      <th>word_freq_will:</th>\n",
              "      <th>word_freq_people:</th>\n",
              "      <th>word_freq_report:</th>\n",
              "      <th>word_freq_addresses:</th>\n",
              "      <th>word_freq_free:</th>\n",
              "      <th>word_freq_business:</th>\n",
              "      <th>word_freq_email:</th>\n",
              "      <th>word_freq_you:</th>\n",
              "      <th>word_freq_credit:</th>\n",
              "      <th>word_freq_your:</th>\n",
              "      <th>word_freq_font:</th>\n",
              "      <th>word_freq_000:</th>\n",
              "      <th>word_freq_money:</th>\n",
              "      <th>word_freq_hp:</th>\n",
              "      <th>word_freq_hpl:</th>\n",
              "      <th>word_freq_george:</th>\n",
              "      <th>word_freq_650:</th>\n",
              "      <th>word_freq_lab:</th>\n",
              "      <th>word_freq_labs:</th>\n",
              "      <th>word_freq_telnet:</th>\n",
              "      <th>word_freq_857:</th>\n",
              "      <th>word_freq_data:</th>\n",
              "      <th>word_freq_415:</th>\n",
              "      <th>word_freq_85:</th>\n",
              "      <th>word_freq_technology:</th>\n",
              "      <th>word_freq_1999:</th>\n",
              "      <th>word_freq_parts:</th>\n",
              "      <th>word_freq_pm:</th>\n",
              "      <th>word_freq_direct:</th>\n",
              "      <th>word_freq_cs:</th>\n",
              "      <th>word_freq_meeting:</th>\n",
              "      <th>word_freq_original:</th>\n",
              "      <th>word_freq_project:</th>\n",
              "      <th>word_freq_re:</th>\n",
              "      <th>word_freq_edu:</th>\n",
              "      <th>word_freq_table:</th>\n",
              "      <th>word_freq_conference:</th>\n",
              "      <th>char_freq_;:</th>\n",
              "      <th>char_freq_(:</th>\n",
              "      <th>char_freq_[:</th>\n",
              "      <th>char_freq_!:</th>\n",
              "      <th>char_freq_$:</th>\n",
              "      <th>char_freq_#:</th>\n",
              "      <th>capital_run_length_average:</th>\n",
              "      <th>capital_run_length_longest:</th>\n",
              "      <th>capital_run_length_total:</th>\n",
              "      <th>spam_yes_no</th>\n",
              "    </tr>\n",
              "  </thead>\n",
              "  <tbody>\n",
              "    <tr>\n",
              "      <th>0</th>\n",
              "      <td>0.00</td>\n",
              "      <td>0.64</td>\n",
              "      <td>0.64</td>\n",
              "      <td>0.0</td>\n",
              "      <td>0.32</td>\n",
              "      <td>0.00</td>\n",
              "      <td>0.00</td>\n",
              "      <td>0.00</td>\n",
              "      <td>0.00</td>\n",
              "      <td>0.00</td>\n",
              "      <td>0.00</td>\n",
              "      <td>0.64</td>\n",
              "      <td>0.00</td>\n",
              "      <td>0.00</td>\n",
              "      <td>0.00</td>\n",
              "      <td>0.32</td>\n",
              "      <td>0.00</td>\n",
              "      <td>1.29</td>\n",
              "      <td>1.93</td>\n",
              "      <td>0.00</td>\n",
              "      <td>0.96</td>\n",
              "      <td>0.0</td>\n",
              "      <td>0.00</td>\n",
              "      <td>0.00</td>\n",
              "      <td>0.0</td>\n",
              "      <td>0.0</td>\n",
              "      <td>0.0</td>\n",
              "      <td>0.0</td>\n",
              "      <td>0.0</td>\n",
              "      <td>0.0</td>\n",
              "      <td>0.0</td>\n",
              "      <td>0.0</td>\n",
              "      <td>0.0</td>\n",
              "      <td>0.0</td>\n",
              "      <td>0.0</td>\n",
              "      <td>0.0</td>\n",
              "      <td>0.00</td>\n",
              "      <td>0.0</td>\n",
              "      <td>0.0</td>\n",
              "      <td>0.00</td>\n",
              "      <td>0.0</td>\n",
              "      <td>0.0</td>\n",
              "      <td>0.00</td>\n",
              "      <td>0.0</td>\n",
              "      <td>0.00</td>\n",
              "      <td>0.00</td>\n",
              "      <td>0.0</td>\n",
              "      <td>0.0</td>\n",
              "      <td>0.00</td>\n",
              "      <td>0.000</td>\n",
              "      <td>0.0</td>\n",
              "      <td>0.778</td>\n",
              "      <td>0.000</td>\n",
              "      <td>0.000</td>\n",
              "      <td>3.756</td>\n",
              "      <td>61</td>\n",
              "      <td>278</td>\n",
              "      <td>1</td>\n",
              "    </tr>\n",
              "    <tr>\n",
              "      <th>1</th>\n",
              "      <td>0.21</td>\n",
              "      <td>0.28</td>\n",
              "      <td>0.50</td>\n",
              "      <td>0.0</td>\n",
              "      <td>0.14</td>\n",
              "      <td>0.28</td>\n",
              "      <td>0.21</td>\n",
              "      <td>0.07</td>\n",
              "      <td>0.00</td>\n",
              "      <td>0.94</td>\n",
              "      <td>0.21</td>\n",
              "      <td>0.79</td>\n",
              "      <td>0.65</td>\n",
              "      <td>0.21</td>\n",
              "      <td>0.14</td>\n",
              "      <td>0.14</td>\n",
              "      <td>0.07</td>\n",
              "      <td>0.28</td>\n",
              "      <td>3.47</td>\n",
              "      <td>0.00</td>\n",
              "      <td>1.59</td>\n",
              "      <td>0.0</td>\n",
              "      <td>0.43</td>\n",
              "      <td>0.43</td>\n",
              "      <td>0.0</td>\n",
              "      <td>0.0</td>\n",
              "      <td>0.0</td>\n",
              "      <td>0.0</td>\n",
              "      <td>0.0</td>\n",
              "      <td>0.0</td>\n",
              "      <td>0.0</td>\n",
              "      <td>0.0</td>\n",
              "      <td>0.0</td>\n",
              "      <td>0.0</td>\n",
              "      <td>0.0</td>\n",
              "      <td>0.0</td>\n",
              "      <td>0.07</td>\n",
              "      <td>0.0</td>\n",
              "      <td>0.0</td>\n",
              "      <td>0.00</td>\n",
              "      <td>0.0</td>\n",
              "      <td>0.0</td>\n",
              "      <td>0.00</td>\n",
              "      <td>0.0</td>\n",
              "      <td>0.00</td>\n",
              "      <td>0.00</td>\n",
              "      <td>0.0</td>\n",
              "      <td>0.0</td>\n",
              "      <td>0.00</td>\n",
              "      <td>0.132</td>\n",
              "      <td>0.0</td>\n",
              "      <td>0.372</td>\n",
              "      <td>0.180</td>\n",
              "      <td>0.048</td>\n",
              "      <td>5.114</td>\n",
              "      <td>101</td>\n",
              "      <td>1028</td>\n",
              "      <td>1</td>\n",
              "    </tr>\n",
              "    <tr>\n",
              "      <th>2</th>\n",
              "      <td>0.06</td>\n",
              "      <td>0.00</td>\n",
              "      <td>0.71</td>\n",
              "      <td>0.0</td>\n",
              "      <td>1.23</td>\n",
              "      <td>0.19</td>\n",
              "      <td>0.19</td>\n",
              "      <td>0.12</td>\n",
              "      <td>0.64</td>\n",
              "      <td>0.25</td>\n",
              "      <td>0.38</td>\n",
              "      <td>0.45</td>\n",
              "      <td>0.12</td>\n",
              "      <td>0.00</td>\n",
              "      <td>1.75</td>\n",
              "      <td>0.06</td>\n",
              "      <td>0.06</td>\n",
              "      <td>1.03</td>\n",
              "      <td>1.36</td>\n",
              "      <td>0.32</td>\n",
              "      <td>0.51</td>\n",
              "      <td>0.0</td>\n",
              "      <td>1.16</td>\n",
              "      <td>0.06</td>\n",
              "      <td>0.0</td>\n",
              "      <td>0.0</td>\n",
              "      <td>0.0</td>\n",
              "      <td>0.0</td>\n",
              "      <td>0.0</td>\n",
              "      <td>0.0</td>\n",
              "      <td>0.0</td>\n",
              "      <td>0.0</td>\n",
              "      <td>0.0</td>\n",
              "      <td>0.0</td>\n",
              "      <td>0.0</td>\n",
              "      <td>0.0</td>\n",
              "      <td>0.00</td>\n",
              "      <td>0.0</td>\n",
              "      <td>0.0</td>\n",
              "      <td>0.06</td>\n",
              "      <td>0.0</td>\n",
              "      <td>0.0</td>\n",
              "      <td>0.12</td>\n",
              "      <td>0.0</td>\n",
              "      <td>0.06</td>\n",
              "      <td>0.06</td>\n",
              "      <td>0.0</td>\n",
              "      <td>0.0</td>\n",
              "      <td>0.01</td>\n",
              "      <td>0.143</td>\n",
              "      <td>0.0</td>\n",
              "      <td>0.276</td>\n",
              "      <td>0.184</td>\n",
              "      <td>0.010</td>\n",
              "      <td>9.821</td>\n",
              "      <td>485</td>\n",
              "      <td>2259</td>\n",
              "      <td>1</td>\n",
              "    </tr>\n",
              "    <tr>\n",
              "      <th>3</th>\n",
              "      <td>0.00</td>\n",
              "      <td>0.00</td>\n",
              "      <td>0.00</td>\n",
              "      <td>0.0</td>\n",
              "      <td>0.63</td>\n",
              "      <td>0.00</td>\n",
              "      <td>0.31</td>\n",
              "      <td>0.63</td>\n",
              "      <td>0.31</td>\n",
              "      <td>0.63</td>\n",
              "      <td>0.31</td>\n",
              "      <td>0.31</td>\n",
              "      <td>0.31</td>\n",
              "      <td>0.00</td>\n",
              "      <td>0.00</td>\n",
              "      <td>0.31</td>\n",
              "      <td>0.00</td>\n",
              "      <td>0.00</td>\n",
              "      <td>3.18</td>\n",
              "      <td>0.00</td>\n",
              "      <td>0.31</td>\n",
              "      <td>0.0</td>\n",
              "      <td>0.00</td>\n",
              "      <td>0.00</td>\n",
              "      <td>0.0</td>\n",
              "      <td>0.0</td>\n",
              "      <td>0.0</td>\n",
              "      <td>0.0</td>\n",
              "      <td>0.0</td>\n",
              "      <td>0.0</td>\n",
              "      <td>0.0</td>\n",
              "      <td>0.0</td>\n",
              "      <td>0.0</td>\n",
              "      <td>0.0</td>\n",
              "      <td>0.0</td>\n",
              "      <td>0.0</td>\n",
              "      <td>0.00</td>\n",
              "      <td>0.0</td>\n",
              "      <td>0.0</td>\n",
              "      <td>0.00</td>\n",
              "      <td>0.0</td>\n",
              "      <td>0.0</td>\n",
              "      <td>0.00</td>\n",
              "      <td>0.0</td>\n",
              "      <td>0.00</td>\n",
              "      <td>0.00</td>\n",
              "      <td>0.0</td>\n",
              "      <td>0.0</td>\n",
              "      <td>0.00</td>\n",
              "      <td>0.137</td>\n",
              "      <td>0.0</td>\n",
              "      <td>0.137</td>\n",
              "      <td>0.000</td>\n",
              "      <td>0.000</td>\n",
              "      <td>3.537</td>\n",
              "      <td>40</td>\n",
              "      <td>191</td>\n",
              "      <td>1</td>\n",
              "    </tr>\n",
              "    <tr>\n",
              "      <th>4</th>\n",
              "      <td>0.00</td>\n",
              "      <td>0.00</td>\n",
              "      <td>0.00</td>\n",
              "      <td>0.0</td>\n",
              "      <td>0.63</td>\n",
              "      <td>0.00</td>\n",
              "      <td>0.31</td>\n",
              "      <td>0.63</td>\n",
              "      <td>0.31</td>\n",
              "      <td>0.63</td>\n",
              "      <td>0.31</td>\n",
              "      <td>0.31</td>\n",
              "      <td>0.31</td>\n",
              "      <td>0.00</td>\n",
              "      <td>0.00</td>\n",
              "      <td>0.31</td>\n",
              "      <td>0.00</td>\n",
              "      <td>0.00</td>\n",
              "      <td>3.18</td>\n",
              "      <td>0.00</td>\n",
              "      <td>0.31</td>\n",
              "      <td>0.0</td>\n",
              "      <td>0.00</td>\n",
              "      <td>0.00</td>\n",
              "      <td>0.0</td>\n",
              "      <td>0.0</td>\n",
              "      <td>0.0</td>\n",
              "      <td>0.0</td>\n",
              "      <td>0.0</td>\n",
              "      <td>0.0</td>\n",
              "      <td>0.0</td>\n",
              "      <td>0.0</td>\n",
              "      <td>0.0</td>\n",
              "      <td>0.0</td>\n",
              "      <td>0.0</td>\n",
              "      <td>0.0</td>\n",
              "      <td>0.00</td>\n",
              "      <td>0.0</td>\n",
              "      <td>0.0</td>\n",
              "      <td>0.00</td>\n",
              "      <td>0.0</td>\n",
              "      <td>0.0</td>\n",
              "      <td>0.00</td>\n",
              "      <td>0.0</td>\n",
              "      <td>0.00</td>\n",
              "      <td>0.00</td>\n",
              "      <td>0.0</td>\n",
              "      <td>0.0</td>\n",
              "      <td>0.00</td>\n",
              "      <td>0.135</td>\n",
              "      <td>0.0</td>\n",
              "      <td>0.135</td>\n",
              "      <td>0.000</td>\n",
              "      <td>0.000</td>\n",
              "      <td>3.537</td>\n",
              "      <td>40</td>\n",
              "      <td>191</td>\n",
              "      <td>1</td>\n",
              "    </tr>\n",
              "  </tbody>\n",
              "</table>\n",
              "</div>"
            ],
            "text/plain": [
              "   word_freq_make:  word_freq_address:  ...  capital_run_length_total:  spam_yes_no\n",
              "0             0.00                0.64  ...                        278            1\n",
              "1             0.21                0.28  ...                       1028            1\n",
              "2             0.06                0.00  ...                       2259            1\n",
              "3             0.00                0.00  ...                        191            1\n",
              "4             0.00                0.00  ...                        191            1\n",
              "\n",
              "[5 rows x 58 columns]"
            ]
          },
          "metadata": {
            "tags": []
          },
          "execution_count": 121
        }
      ]
    },
    {
      "cell_type": "code",
      "metadata": {
        "colab": {
          "base_uri": "https://localhost:8080/",
          "height": 224
        },
        "id": "9XXpARbiHLPe",
        "outputId": "d9f16927-883d-4c28-ba20-df2fb94f4899"
      },
      "source": [
        "dataset.head()"
      ],
      "execution_count": 122,
      "outputs": [
        {
          "output_type": "execute_result",
          "data": {
            "text/html": [
              "<div>\n",
              "<style scoped>\n",
              "    .dataframe tbody tr th:only-of-type {\n",
              "        vertical-align: middle;\n",
              "    }\n",
              "\n",
              "    .dataframe tbody tr th {\n",
              "        vertical-align: top;\n",
              "    }\n",
              "\n",
              "    .dataframe thead th {\n",
              "        text-align: right;\n",
              "    }\n",
              "</style>\n",
              "<table border=\"1\" class=\"dataframe\">\n",
              "  <thead>\n",
              "    <tr style=\"text-align: right;\">\n",
              "      <th></th>\n",
              "      <th>word_freq_make:</th>\n",
              "      <th>word_freq_address:</th>\n",
              "      <th>word_freq_all:</th>\n",
              "      <th>word_freq_3d:</th>\n",
              "      <th>word_freq_our:</th>\n",
              "      <th>word_freq_over:</th>\n",
              "      <th>word_freq_remove:</th>\n",
              "      <th>word_freq_internet:</th>\n",
              "      <th>word_freq_order:</th>\n",
              "      <th>word_freq_mail:</th>\n",
              "      <th>word_freq_receive:</th>\n",
              "      <th>word_freq_will:</th>\n",
              "      <th>word_freq_people:</th>\n",
              "      <th>word_freq_report:</th>\n",
              "      <th>word_freq_addresses:</th>\n",
              "      <th>word_freq_free:</th>\n",
              "      <th>word_freq_business:</th>\n",
              "      <th>word_freq_email:</th>\n",
              "      <th>word_freq_you:</th>\n",
              "      <th>word_freq_credit:</th>\n",
              "      <th>word_freq_your:</th>\n",
              "      <th>word_freq_font:</th>\n",
              "      <th>word_freq_000:</th>\n",
              "      <th>word_freq_money:</th>\n",
              "      <th>word_freq_hp:</th>\n",
              "      <th>word_freq_hpl:</th>\n",
              "      <th>word_freq_george:</th>\n",
              "      <th>word_freq_650:</th>\n",
              "      <th>word_freq_lab:</th>\n",
              "      <th>word_freq_labs:</th>\n",
              "      <th>word_freq_telnet:</th>\n",
              "      <th>word_freq_857:</th>\n",
              "      <th>word_freq_data:</th>\n",
              "      <th>word_freq_415:</th>\n",
              "      <th>word_freq_85:</th>\n",
              "      <th>word_freq_technology:</th>\n",
              "      <th>word_freq_1999:</th>\n",
              "      <th>word_freq_parts:</th>\n",
              "      <th>word_freq_pm:</th>\n",
              "      <th>word_freq_direct:</th>\n",
              "      <th>word_freq_cs:</th>\n",
              "      <th>word_freq_meeting:</th>\n",
              "      <th>word_freq_original:</th>\n",
              "      <th>word_freq_project:</th>\n",
              "      <th>word_freq_re:</th>\n",
              "      <th>word_freq_edu:</th>\n",
              "      <th>word_freq_table:</th>\n",
              "      <th>word_freq_conference:</th>\n",
              "      <th>char_freq_;:</th>\n",
              "      <th>char_freq_(:</th>\n",
              "      <th>char_freq_[:</th>\n",
              "      <th>char_freq_!:</th>\n",
              "      <th>char_freq_$:</th>\n",
              "      <th>char_freq_#:</th>\n",
              "      <th>capital_run_length_average:</th>\n",
              "      <th>capital_run_length_longest:</th>\n",
              "      <th>capital_run_length_total:</th>\n",
              "      <th>spam_yes_no</th>\n",
              "    </tr>\n",
              "  </thead>\n",
              "  <tbody>\n",
              "    <tr>\n",
              "      <th>0</th>\n",
              "      <td>0.00</td>\n",
              "      <td>0.64</td>\n",
              "      <td>0.64</td>\n",
              "      <td>0.0</td>\n",
              "      <td>0.32</td>\n",
              "      <td>0.00</td>\n",
              "      <td>0.00</td>\n",
              "      <td>0.00</td>\n",
              "      <td>0.00</td>\n",
              "      <td>0.00</td>\n",
              "      <td>0.00</td>\n",
              "      <td>0.64</td>\n",
              "      <td>0.00</td>\n",
              "      <td>0.00</td>\n",
              "      <td>0.00</td>\n",
              "      <td>0.32</td>\n",
              "      <td>0.00</td>\n",
              "      <td>1.29</td>\n",
              "      <td>1.93</td>\n",
              "      <td>0.00</td>\n",
              "      <td>0.96</td>\n",
              "      <td>0.0</td>\n",
              "      <td>0.00</td>\n",
              "      <td>0.00</td>\n",
              "      <td>0.0</td>\n",
              "      <td>0.0</td>\n",
              "      <td>0.0</td>\n",
              "      <td>0.0</td>\n",
              "      <td>0.0</td>\n",
              "      <td>0.0</td>\n",
              "      <td>0.0</td>\n",
              "      <td>0.0</td>\n",
              "      <td>0.0</td>\n",
              "      <td>0.0</td>\n",
              "      <td>0.0</td>\n",
              "      <td>0.0</td>\n",
              "      <td>0.00</td>\n",
              "      <td>0.0</td>\n",
              "      <td>0.0</td>\n",
              "      <td>0.00</td>\n",
              "      <td>0.0</td>\n",
              "      <td>0.0</td>\n",
              "      <td>0.00</td>\n",
              "      <td>0.0</td>\n",
              "      <td>0.00</td>\n",
              "      <td>0.00</td>\n",
              "      <td>0.0</td>\n",
              "      <td>0.0</td>\n",
              "      <td>0.00</td>\n",
              "      <td>0.000</td>\n",
              "      <td>0.0</td>\n",
              "      <td>0.778</td>\n",
              "      <td>0.000</td>\n",
              "      <td>0.000</td>\n",
              "      <td>3.756</td>\n",
              "      <td>61</td>\n",
              "      <td>278</td>\n",
              "      <td>1</td>\n",
              "    </tr>\n",
              "    <tr>\n",
              "      <th>1</th>\n",
              "      <td>0.21</td>\n",
              "      <td>0.28</td>\n",
              "      <td>0.50</td>\n",
              "      <td>0.0</td>\n",
              "      <td>0.14</td>\n",
              "      <td>0.28</td>\n",
              "      <td>0.21</td>\n",
              "      <td>0.07</td>\n",
              "      <td>0.00</td>\n",
              "      <td>0.94</td>\n",
              "      <td>0.21</td>\n",
              "      <td>0.79</td>\n",
              "      <td>0.65</td>\n",
              "      <td>0.21</td>\n",
              "      <td>0.14</td>\n",
              "      <td>0.14</td>\n",
              "      <td>0.07</td>\n",
              "      <td>0.28</td>\n",
              "      <td>3.47</td>\n",
              "      <td>0.00</td>\n",
              "      <td>1.59</td>\n",
              "      <td>0.0</td>\n",
              "      <td>0.43</td>\n",
              "      <td>0.43</td>\n",
              "      <td>0.0</td>\n",
              "      <td>0.0</td>\n",
              "      <td>0.0</td>\n",
              "      <td>0.0</td>\n",
              "      <td>0.0</td>\n",
              "      <td>0.0</td>\n",
              "      <td>0.0</td>\n",
              "      <td>0.0</td>\n",
              "      <td>0.0</td>\n",
              "      <td>0.0</td>\n",
              "      <td>0.0</td>\n",
              "      <td>0.0</td>\n",
              "      <td>0.07</td>\n",
              "      <td>0.0</td>\n",
              "      <td>0.0</td>\n",
              "      <td>0.00</td>\n",
              "      <td>0.0</td>\n",
              "      <td>0.0</td>\n",
              "      <td>0.00</td>\n",
              "      <td>0.0</td>\n",
              "      <td>0.00</td>\n",
              "      <td>0.00</td>\n",
              "      <td>0.0</td>\n",
              "      <td>0.0</td>\n",
              "      <td>0.00</td>\n",
              "      <td>0.132</td>\n",
              "      <td>0.0</td>\n",
              "      <td>0.372</td>\n",
              "      <td>0.180</td>\n",
              "      <td>0.048</td>\n",
              "      <td>5.114</td>\n",
              "      <td>101</td>\n",
              "      <td>1028</td>\n",
              "      <td>1</td>\n",
              "    </tr>\n",
              "    <tr>\n",
              "      <th>2</th>\n",
              "      <td>0.06</td>\n",
              "      <td>0.00</td>\n",
              "      <td>0.71</td>\n",
              "      <td>0.0</td>\n",
              "      <td>1.23</td>\n",
              "      <td>0.19</td>\n",
              "      <td>0.19</td>\n",
              "      <td>0.12</td>\n",
              "      <td>0.64</td>\n",
              "      <td>0.25</td>\n",
              "      <td>0.38</td>\n",
              "      <td>0.45</td>\n",
              "      <td>0.12</td>\n",
              "      <td>0.00</td>\n",
              "      <td>1.75</td>\n",
              "      <td>0.06</td>\n",
              "      <td>0.06</td>\n",
              "      <td>1.03</td>\n",
              "      <td>1.36</td>\n",
              "      <td>0.32</td>\n",
              "      <td>0.51</td>\n",
              "      <td>0.0</td>\n",
              "      <td>1.16</td>\n",
              "      <td>0.06</td>\n",
              "      <td>0.0</td>\n",
              "      <td>0.0</td>\n",
              "      <td>0.0</td>\n",
              "      <td>0.0</td>\n",
              "      <td>0.0</td>\n",
              "      <td>0.0</td>\n",
              "      <td>0.0</td>\n",
              "      <td>0.0</td>\n",
              "      <td>0.0</td>\n",
              "      <td>0.0</td>\n",
              "      <td>0.0</td>\n",
              "      <td>0.0</td>\n",
              "      <td>0.00</td>\n",
              "      <td>0.0</td>\n",
              "      <td>0.0</td>\n",
              "      <td>0.06</td>\n",
              "      <td>0.0</td>\n",
              "      <td>0.0</td>\n",
              "      <td>0.12</td>\n",
              "      <td>0.0</td>\n",
              "      <td>0.06</td>\n",
              "      <td>0.06</td>\n",
              "      <td>0.0</td>\n",
              "      <td>0.0</td>\n",
              "      <td>0.01</td>\n",
              "      <td>0.143</td>\n",
              "      <td>0.0</td>\n",
              "      <td>0.276</td>\n",
              "      <td>0.184</td>\n",
              "      <td>0.010</td>\n",
              "      <td>9.821</td>\n",
              "      <td>485</td>\n",
              "      <td>2259</td>\n",
              "      <td>1</td>\n",
              "    </tr>\n",
              "    <tr>\n",
              "      <th>3</th>\n",
              "      <td>0.00</td>\n",
              "      <td>0.00</td>\n",
              "      <td>0.00</td>\n",
              "      <td>0.0</td>\n",
              "      <td>0.63</td>\n",
              "      <td>0.00</td>\n",
              "      <td>0.31</td>\n",
              "      <td>0.63</td>\n",
              "      <td>0.31</td>\n",
              "      <td>0.63</td>\n",
              "      <td>0.31</td>\n",
              "      <td>0.31</td>\n",
              "      <td>0.31</td>\n",
              "      <td>0.00</td>\n",
              "      <td>0.00</td>\n",
              "      <td>0.31</td>\n",
              "      <td>0.00</td>\n",
              "      <td>0.00</td>\n",
              "      <td>3.18</td>\n",
              "      <td>0.00</td>\n",
              "      <td>0.31</td>\n",
              "      <td>0.0</td>\n",
              "      <td>0.00</td>\n",
              "      <td>0.00</td>\n",
              "      <td>0.0</td>\n",
              "      <td>0.0</td>\n",
              "      <td>0.0</td>\n",
              "      <td>0.0</td>\n",
              "      <td>0.0</td>\n",
              "      <td>0.0</td>\n",
              "      <td>0.0</td>\n",
              "      <td>0.0</td>\n",
              "      <td>0.0</td>\n",
              "      <td>0.0</td>\n",
              "      <td>0.0</td>\n",
              "      <td>0.0</td>\n",
              "      <td>0.00</td>\n",
              "      <td>0.0</td>\n",
              "      <td>0.0</td>\n",
              "      <td>0.00</td>\n",
              "      <td>0.0</td>\n",
              "      <td>0.0</td>\n",
              "      <td>0.00</td>\n",
              "      <td>0.0</td>\n",
              "      <td>0.00</td>\n",
              "      <td>0.00</td>\n",
              "      <td>0.0</td>\n",
              "      <td>0.0</td>\n",
              "      <td>0.00</td>\n",
              "      <td>0.137</td>\n",
              "      <td>0.0</td>\n",
              "      <td>0.137</td>\n",
              "      <td>0.000</td>\n",
              "      <td>0.000</td>\n",
              "      <td>3.537</td>\n",
              "      <td>40</td>\n",
              "      <td>191</td>\n",
              "      <td>1</td>\n",
              "    </tr>\n",
              "    <tr>\n",
              "      <th>4</th>\n",
              "      <td>0.00</td>\n",
              "      <td>0.00</td>\n",
              "      <td>0.00</td>\n",
              "      <td>0.0</td>\n",
              "      <td>0.63</td>\n",
              "      <td>0.00</td>\n",
              "      <td>0.31</td>\n",
              "      <td>0.63</td>\n",
              "      <td>0.31</td>\n",
              "      <td>0.63</td>\n",
              "      <td>0.31</td>\n",
              "      <td>0.31</td>\n",
              "      <td>0.31</td>\n",
              "      <td>0.00</td>\n",
              "      <td>0.00</td>\n",
              "      <td>0.31</td>\n",
              "      <td>0.00</td>\n",
              "      <td>0.00</td>\n",
              "      <td>3.18</td>\n",
              "      <td>0.00</td>\n",
              "      <td>0.31</td>\n",
              "      <td>0.0</td>\n",
              "      <td>0.00</td>\n",
              "      <td>0.00</td>\n",
              "      <td>0.0</td>\n",
              "      <td>0.0</td>\n",
              "      <td>0.0</td>\n",
              "      <td>0.0</td>\n",
              "      <td>0.0</td>\n",
              "      <td>0.0</td>\n",
              "      <td>0.0</td>\n",
              "      <td>0.0</td>\n",
              "      <td>0.0</td>\n",
              "      <td>0.0</td>\n",
              "      <td>0.0</td>\n",
              "      <td>0.0</td>\n",
              "      <td>0.00</td>\n",
              "      <td>0.0</td>\n",
              "      <td>0.0</td>\n",
              "      <td>0.00</td>\n",
              "      <td>0.0</td>\n",
              "      <td>0.0</td>\n",
              "      <td>0.00</td>\n",
              "      <td>0.0</td>\n",
              "      <td>0.00</td>\n",
              "      <td>0.00</td>\n",
              "      <td>0.0</td>\n",
              "      <td>0.0</td>\n",
              "      <td>0.00</td>\n",
              "      <td>0.135</td>\n",
              "      <td>0.0</td>\n",
              "      <td>0.135</td>\n",
              "      <td>0.000</td>\n",
              "      <td>0.000</td>\n",
              "      <td>3.537</td>\n",
              "      <td>40</td>\n",
              "      <td>191</td>\n",
              "      <td>1</td>\n",
              "    </tr>\n",
              "  </tbody>\n",
              "</table>\n",
              "</div>"
            ],
            "text/plain": [
              "   word_freq_make:  word_freq_address:  ...  capital_run_length_total:  spam_yes_no\n",
              "0             0.00                0.64  ...                        278            1\n",
              "1             0.21                0.28  ...                       1028            1\n",
              "2             0.06                0.00  ...                       2259            1\n",
              "3             0.00                0.00  ...                        191            1\n",
              "4             0.00                0.00  ...                        191            1\n",
              "\n",
              "[5 rows x 58 columns]"
            ]
          },
          "metadata": {
            "tags": []
          },
          "execution_count": 122
        }
      ]
    },
    {
      "cell_type": "markdown",
      "metadata": {
        "id": "83jXk-h1S0mI"
      },
      "source": [
        "# **Naive** **Bayes** **Multinomial**"
      ]
    },
    {
      "cell_type": "code",
      "metadata": {
        "id": "tn3Oszi8JtSN"
      },
      "source": [
        "spam = dataset[dataset['spam_yes_no'] == 1]\n",
        "notSpam = dataset[dataset['spam_yes_no'] == 0]"
      ],
      "execution_count": 123,
      "outputs": []
    },
    {
      "cell_type": "code",
      "metadata": {
        "id": "P49yxyvpI8gN"
      },
      "source": [
        "spam_train, spam_test = train_test_split(spam, train_size=0.6)\n",
        "notSpam_train, notSpam_test = train_test_split(notSpam, train_size=0.6)"
      ],
      "execution_count": 124,
      "outputs": []
    },
    {
      "cell_type": "code",
      "metadata": {
        "id": "mEjqPQlUJU8E"
      },
      "source": [
        "train_x = notSpam_train.append(spam_train)\n",
        "train_y = train_x.pop('spam_yes_no')\n",
        "test_x = notSpam_test.append(spam_test)\n",
        "test_y = test_x.pop('spam_yes_no')"
      ],
      "execution_count": 125,
      "outputs": []
    },
    {
      "cell_type": "code",
      "metadata": {
        "colab": {
          "base_uri": "https://localhost:8080/"
        },
        "id": "o_mGdR7_NpiY",
        "outputId": "cf42bf8d-6003-4bf8-df59-b0c574f3a254"
      },
      "source": [
        "train_x.value_counts()"
      ],
      "execution_count": 126,
      "outputs": [
        {
          "output_type": "execute_result",
          "data": {
            "text/plain": [
              "word_freq_make:  word_freq_address:  word_freq_all:  word_freq_3d:  word_freq_our:  word_freq_over:  word_freq_remove:  word_freq_internet:  word_freq_order:  word_freq_mail:  word_freq_receive:  word_freq_will:  word_freq_people:  word_freq_report:  word_freq_addresses:  word_freq_free:  word_freq_business:  word_freq_email:  word_freq_you:  word_freq_credit:  word_freq_your:  word_freq_font:  word_freq_000:  word_freq_money:  word_freq_hp:  word_freq_hpl:  word_freq_george:  word_freq_650:  word_freq_lab:  word_freq_labs:  word_freq_telnet:  word_freq_857:  word_freq_data:  word_freq_415:  word_freq_85:  word_freq_technology:  word_freq_1999:  word_freq_parts:  word_freq_pm:  word_freq_direct:  word_freq_cs:  word_freq_meeting:  word_freq_original:  word_freq_project:  word_freq_re:  word_freq_edu:  word_freq_table:  word_freq_conference:  char_freq_;:  char_freq_(:  char_freq_[:  char_freq_!:  char_freq_$:  char_freq_#:  capital_run_length_average:  capital_run_length_longest:  capital_run_length_total:\n",
              "0.0              0.00                0.00            0.0            0.0             0.0              0.0                0.0                  0.00              0.0              0.0                 0.00             0.0                0.0                0.0                   0.0              0.0                  0.0               0.00            0.0                0.00             0.0              0.0             0.0               0.00           0.00            20.0               0.0             0.00            0.0              0.0                0.0             0.00             0.0             0.0            0.0                    0.0              0.0               0.0            0.00               0.0            0.0                 0.0                  0.0                 0.0            0.0             0.0               0.0                    0.0           0.000         0.0           0.0           0.0           0.0           1.000                        1                            5                            39\n",
              "                 14.28               0.00            0.0            0.0             0.0              0.0                0.0                  0.00              0.0              0.0                 0.00             0.0                0.0                0.0                   0.0              0.0                  0.0               0.00            0.0                0.00             0.0              0.0             0.0               0.00           0.00            0.0                0.0             0.00            0.0              0.0                0.0             0.00             0.0             0.0            0.0                    0.0              0.0               0.0            0.00               0.0            0.0                 0.0                  0.0                 0.0            0.0             0.0               0.0                    0.0           0.000         0.0           0.0           0.0           0.0           1.800                        5                            9                            17\n",
              "                 0.00                0.00            0.0            0.0             0.0              0.0                0.0                  0.00              0.0              0.0                 0.00             0.0                0.0                0.0                   0.0              0.0                  0.0               0.00            0.0                0.00             0.0              0.0             0.0               0.00           0.00            0.0                0.0             0.00            0.0              0.0                0.0             0.00             0.0             0.0            0.0                    0.0              0.0               0.0            0.00               0.0            0.0                 0.0                  0.0                 0.0            0.0             0.0               0.0                    0.0           0.000         0.0           0.0           0.0           0.0           1.000                        1                            4                             9\n",
              "                                                                                                                                                                                                                                                                                                                                                                                                                                                                                                                                                                                                                                                                                                                                                                                                                                                                                                                                                                                                                                    3                             7\n",
              "2.0              0.00                0.00            0.0            0.0             0.0              0.0                0.0                  0.00              0.0              2.0                 2.00             0.0                0.0                0.0                   0.0              0.0                  0.0               2.00            0.0                8.00             0.0              0.0             0.0               0.00           0.00            0.0                0.0             0.00            0.0              0.0                0.0             0.00             0.0             0.0            0.0                    0.0              0.0               0.0            0.00               0.0            0.0                 0.0                  0.0                 0.0            0.0             0.0               0.0                    0.0           0.000         0.0           0.0           0.0           0.0           5.888                        29                           53                            7\n",
              "                                                                                                                                                                                                                                                                                                                                                                                                                                                                                                                                                                                                                                                                                                                                                                                                                                                                                                                                                                                                                                                                 ..\n",
              "0.0              0.00                2.56            0.0            0.0             0.0              0.0                0.0                  0.00              0.0              0.0                 1.28             0.0                0.0                0.0                   0.0              0.0                  0.0               1.28            0.0                0.00             0.0              0.0             0.0               0.00           0.00            0.0                0.0             0.00            0.0              0.0                0.0             0.00             0.0             0.0            0.0                    0.0              0.0               0.0            0.00               0.0            0.0                 0.0                  0.0                 0.0            0.0             0.0               0.0                    0.0           0.227         0.0           0.0           0.0           0.0           1.647                        7                            28                            1\n",
              "                                     2.50            0.0            0.0             0.0              0.0                0.0                  0.00              0.0              0.0                 0.00             2.5                0.0                0.0                   0.0              0.0                  0.0               2.50            0.0                2.50             0.0              0.0             0.0               0.00           0.00            0.0                0.0             2.50            0.0              0.0                0.0             0.00             0.0             0.0            0.0                    0.0              0.0               0.0            0.00               0.0            0.0                 0.0                  0.0                 0.0            0.0             0.0               0.0                    0.0           0.000         0.0           0.0           0.0           0.0           1.222                        3                            11                            1\n",
              "                                                                                                                                                                                                                     0.0                0.0                0.0                   0.0              0.0                  0.0               0.00            0.0                0.00             0.0              0.0             0.0               0.00           0.00            0.0                0.0             0.00            0.0              0.0                0.0             0.00             0.0             0.0            0.0                    0.0              0.0               0.0            0.00               0.0            2.5                 0.0                  0.0                 0.0            0.0             0.0               0.0                    0.0           0.000         0.0           0.0           0.0           0.0           1.000                        1                            15                            1\n",
              "                                     2.43            0.0            0.0             0.0              0.0                0.0                  0.27              0.0              0.0                 2.16             0.0                0.0                0.0                   0.0              0.0                  0.0               0.27            0.0                1.62             0.0              0.0             0.0               0.27           0.54            0.0                0.0             0.27            0.0              0.0                0.0             0.27             0.0             0.0            0.0                    0.0              0.0               0.0            0.27               0.0            0.0                 0.0                  0.0                 0.0            0.0             0.0               0.0                    0.0           0.344         0.0           0.0           0.0           0.0           2.319                        12                           167                           1\n",
              "                                     0.00            0.0            0.0             0.0              0.0                0.0                  0.00              0.0              0.0                 0.00             0.0                0.0                0.0                   0.0              0.0                  0.0               0.00            0.0                0.00             0.0              0.0             0.0               0.00           0.00            0.0                0.0             0.00            0.0              0.0                0.0             0.00             0.0             0.0            0.0                    0.0              0.0               0.0            0.00               0.0            0.0                 0.0                  0.0                 0.0            0.0             0.0               0.0                    0.0           0.000         0.0           0.0           0.0           0.0           1.000                        1                            1                             1\n",
              "Length: 2581, dtype: int64"
            ]
          },
          "metadata": {
            "tags": []
          },
          "execution_count": 126
        }
      ]
    },
    {
      "cell_type": "code",
      "metadata": {
        "colab": {
          "base_uri": "https://localhost:8080/"
        },
        "id": "vnsOQk3BN0Yr",
        "outputId": "cb15f6b6-48b9-40b8-a1ca-18533cebaf3e"
      },
      "source": [
        "train_y.value_counts()"
      ],
      "execution_count": 127,
      "outputs": [
        {
          "output_type": "execute_result",
          "data": {
            "text/plain": [
              "0    1672\n",
              "1    1087\n",
              "Name: spam_yes_no, dtype: int64"
            ]
          },
          "metadata": {
            "tags": []
          },
          "execution_count": 127
        }
      ]
    },
    {
      "cell_type": "code",
      "metadata": {
        "id": "EJS3s_k7U5xj"
      },
      "source": [
        "classifier = MultinomialNB()"
      ],
      "execution_count": 128,
      "outputs": []
    },
    {
      "cell_type": "markdown",
      "metadata": {
        "id": "7iyvCdMTVskh"
      },
      "source": [
        "**Fit** **to** **Model**"
      ]
    },
    {
      "cell_type": "code",
      "metadata": {
        "colab": {
          "base_uri": "https://localhost:8080/"
        },
        "id": "XTFcTx3aKmT9",
        "outputId": "120f63e2-376f-4459-8660-3832f45e17b8"
      },
      "source": [
        "classifier.fit(train_x, train_y)"
      ],
      "execution_count": 129,
      "outputs": [
        {
          "output_type": "execute_result",
          "data": {
            "text/plain": [
              "MultinomialNB(alpha=1.0, class_prior=None, fit_prior=True)"
            ]
          },
          "metadata": {
            "tags": []
          },
          "execution_count": 129
        }
      ]
    },
    {
      "cell_type": "markdown",
      "metadata": {
        "id": "Rmv5__4uVnDV"
      },
      "source": [
        "**Predictions**"
      ]
    },
    {
      "cell_type": "code",
      "metadata": {
        "id": "TX02Zv5UWkou"
      },
      "source": [
        "pred_x = classifier.predict(test_x)"
      ],
      "execution_count": 130,
      "outputs": []
    },
    {
      "cell_type": "code",
      "metadata": {
        "colab": {
          "base_uri": "https://localhost:8080/"
        },
        "id": "5j_b9wOQWEWo",
        "outputId": "769df712-109c-4fcd-ff6a-56e6fccf62b5"
      },
      "source": [
        "metrics.accuracy_score(test_y, pred_x)"
      ],
      "execution_count": 131,
      "outputs": [
        {
          "output_type": "execute_result",
          "data": {
            "text/plain": [
              "0.7855591748099892"
            ]
          },
          "metadata": {
            "tags": []
          },
          "execution_count": 131
        }
      ]
    },
    {
      "cell_type": "markdown",
      "metadata": {
        "id": "LTTxvjMKXWLY"
      },
      "source": [
        "**Results**"
      ]
    },
    {
      "cell_type": "code",
      "metadata": {
        "colab": {
          "base_uri": "https://localhost:8080/"
        },
        "id": "djc76gDMWoEl",
        "outputId": "42875087-9f6e-42bc-fd0a-48df49347aae"
      },
      "source": [
        "classifier.score(train_x, train_y)"
      ],
      "execution_count": 132,
      "outputs": [
        {
          "output_type": "execute_result",
          "data": {
            "text/plain": [
              "0.7836172526277637"
            ]
          },
          "metadata": {
            "tags": []
          },
          "execution_count": 132
        }
      ]
    },
    {
      "cell_type": "code",
      "metadata": {
        "colab": {
          "base_uri": "https://localhost:8080/"
        },
        "id": "w8Zt404wKplv",
        "outputId": "973bff54-f178-4e1c-c2b9-dca0fc51ad0d"
      },
      "source": [
        "classifier.score(test_x, test_y)"
      ],
      "execution_count": 133,
      "outputs": [
        {
          "output_type": "execute_result",
          "data": {
            "text/plain": [
              "0.7855591748099892"
            ]
          },
          "metadata": {
            "tags": []
          },
          "execution_count": 133
        }
      ]
    },
    {
      "cell_type": "markdown",
      "metadata": {
        "id": "jUO89kx0eaXA"
      },
      "source": [
        "# **Evaluation**"
      ]
    },
    {
      "cell_type": "code",
      "metadata": {
        "id": "qedeyfUZeeuM"
      },
      "source": [
        "from sklearn.model_selection import cross_val_predict\n",
        "predict = cross_val_predict(classifier, train_x, train_y, cv=10)"
      ],
      "execution_count": 156,
      "outputs": []
    },
    {
      "cell_type": "markdown",
      "metadata": {
        "id": "V9FRAvm2kX28"
      },
      "source": [
        "**Confusion** **Matrix**"
      ]
    },
    {
      "cell_type": "code",
      "metadata": {
        "colab": {
          "base_uri": "https://localhost:8080/"
        },
        "id": "pusWejGNjCCG",
        "outputId": "126fb64e-66de-4de2-9b63-ce55fd23db3c"
      },
      "source": [
        "confusion_matrix(train_y, predict)"
      ],
      "execution_count": 157,
      "outputs": [
        {
          "output_type": "execute_result",
          "data": {
            "text/plain": [
              "array([[1386,  286],\n",
              "       [ 319,  768]])"
            ]
          },
          "metadata": {
            "tags": []
          },
          "execution_count": 157
        }
      ]
    },
    {
      "cell_type": "markdown",
      "metadata": {
        "id": "s7LE4Bzakm7m"
      },
      "source": [
        "**Precision** **&** **Recall**"
      ]
    },
    {
      "cell_type": "code",
      "metadata": {
        "colab": {
          "base_uri": "https://localhost:8080/"
        },
        "id": "AL51vIt4j7Hb",
        "outputId": "6bc8f4ad-4c2f-4319-8640-d5f66a9bed0a"
      },
      "source": [
        "from sklearn.metrics import precision_score, recall_score\n",
        "precision_score(train_y, predict)\n",
        "recall_score(train_y, predict)"
      ],
      "execution_count": 158,
      "outputs": [
        {
          "output_type": "execute_result",
          "data": {
            "text/plain": [
              "0.7065317387304508"
            ]
          },
          "metadata": {
            "tags": []
          },
          "execution_count": 158
        }
      ]
    },
    {
      "cell_type": "markdown",
      "metadata": {
        "id": "ropaohaEk2Nu"
      },
      "source": [
        "**F1** **Score**"
      ]
    },
    {
      "cell_type": "code",
      "metadata": {
        "colab": {
          "base_uri": "https://localhost:8080/"
        },
        "id": "caQGYXzIkLNN",
        "outputId": "082dc6f8-b5e2-4a66-a47f-5d540cd2922d"
      },
      "source": [
        "from sklearn.metrics import f1_score\n",
        "f1_score(train_y, predict)"
      ],
      "execution_count": 159,
      "outputs": [
        {
          "output_type": "execute_result",
          "data": {
            "text/plain": [
              "0.717421765530126"
            ]
          },
          "metadata": {
            "tags": []
          },
          "execution_count": 159
        }
      ]
    },
    {
      "cell_type": "markdown",
      "metadata": {
        "id": "aMt_tbDEl0l5"
      },
      "source": [
        "**Cross**-**Validation**"
      ]
    },
    {
      "cell_type": "code",
      "metadata": {
        "colab": {
          "base_uri": "https://localhost:8080/"
        },
        "id": "ZVGYSS6rlLXL",
        "outputId": "289e7f24-5079-4841-e8c6-f24e1e415075"
      },
      "source": [
        "from sklearn.model_selection import cross_val_score\n",
        "score = cross_val_score(classifier, train_x, train_y, cv=10, scoring='accuracy')\n",
        "print(score)"
      ],
      "execution_count": 160,
      "outputs": [
        {
          "output_type": "stream",
          "text": [
            "[0.78623188 0.80434783 0.76449275 0.76086957 0.77898551 0.76811594\n",
            " 0.81884058 0.78985507 0.79710145 0.73818182]\n"
          ],
          "name": "stdout"
        }
      ]
    },
    {
      "cell_type": "code",
      "metadata": {
        "colab": {
          "base_uri": "https://localhost:8080/"
        },
        "id": "b2FcCYyAmGeD",
        "outputId": "3dc080af-ba1e-4afd-ac69-c365ad843d2e"
      },
      "source": [
        "score.mean()"
      ],
      "execution_count": 161,
      "outputs": [
        {
          "output_type": "execute_result",
          "data": {
            "text/plain": [
              "0.7807022397891964"
            ]
          },
          "metadata": {
            "tags": []
          },
          "execution_count": 161
        }
      ]
    }
  ]
}